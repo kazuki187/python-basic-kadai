{
  "nbformat": 4,
  "nbformat_minor": 0,
  "metadata": {
    "colab": {
      "provenance": []
    },
    "kernelspec": {
      "name": "python3",
      "display_name": "Python 3"
    },
    "language_info": {
      "name": "python"
    }
  },
  "cells": [
    {
      "cell_type": "code",
      "execution_count": 3,
      "metadata": {
        "colab": {
          "base_uri": "https://localhost:8080/"
        },
        "id": "qj70AIAbX3eT",
        "outputId": "679de1b5-c85c-4f4c-e549-e0d03c33cc43"
      },
      "outputs": [
        {
          "output_type": "stream",
          "name": "stdout",
          "text": [
            "名前は侍太郎です。\n",
            "年齢は36歳です。\n"
          ]
        }
      ],
      "source": [
        "#名前(name)と年齢(age)の属性を持つHumanクラスの作成\n",
        "class Human:\n",
        "    #初期化と属性\n",
        "    def __init__(self, name, age):\n",
        "        self.name = name\n",
        "        self.age = age\n",
        "\n",
        "    #メソッド\n",
        "    def printinfo(self, name, age):\n",
        "        print(\"名前は\" + self.name + \"です。\")\n",
        "        print(\"年齢は\" + str(self.age) + \"歳です。\")\n",
        "\n",
        "#インスタンス化\n",
        "user = Human(\"侍太郎\", 36)\n",
        "\n",
        "#メソッドにアクセスして実行する\n",
        "user.printinfo(user.name, user.age)\n"
      ]
    }
  ]
}