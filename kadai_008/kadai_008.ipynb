{
  "nbformat": 4,
  "nbformat_minor": 0,
  "metadata": {
    "colab": {
      "provenance": []
    },
    "kernelspec": {
      "name": "python3",
      "display_name": "Python 3"
    },
    "language_info": {
      "name": "python"
    }
  },
  "cells": [
    {
      "cell_type": "code",
      "execution_count": 63,
      "metadata": {
        "colab": {
          "base_uri": "https://localhost:8080/"
        },
        "id": "c-cWO6N7lRif",
        "outputId": "06895ba5-485d-4bd0-9ade-598ded64c332"
      },
      "outputs": [
        {
          "output_type": "stream",
          "name": "stdout",
          "text": [
            "195\n",
            "FizzBuzz\n"
          ]
        }
      ],
      "source": [
        "# 変数varに0～1000までのランダムな整数を代入する\n",
        "import random\n",
        "var = random.randint(0,1000)\n",
        "print(var)\n",
        "\n",
        "# 変数varが3の倍数と5の倍数の両方に該当する場合は「FizzBuzz」を出力\n",
        "if var % 3 == 0 and var % 5 == 0:\n",
        "  print(\"FizzBuzz\")\n",
        "\n",
        "elif var  % 3 == 0:\n",
        "    print(\"Fizz\") #3の倍数の場合は「Fizz」を出力\n",
        "\n",
        "elif var % 5 == 0:\n",
        "    print(\"Buzz\") #5の倍数の場合は「Buzz」を出力\n",
        "\n",
        "else:\n",
        "    print(var)\n"
      ]
    },
    {
      "cell_type": "code",
      "source": [],
      "metadata": {
        "id": "9fA4dOqw3psX"
      },
      "execution_count": null,
      "outputs": []
    }
  ]
}