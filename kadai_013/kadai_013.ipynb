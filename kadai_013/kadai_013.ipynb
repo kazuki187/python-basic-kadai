{
  "nbformat": 4,
  "nbformat_minor": 0,
  "metadata": {
    "colab": {
      "provenance": []
    },
    "kernelspec": {
      "name": "python3",
      "display_name": "Python 3"
    },
    "language_info": {
      "name": "python"
    }
  },
  "cells": [
    {
      "cell_type": "code",
      "execution_count": 12,
      "metadata": {
        "colab": {
          "base_uri": "https://localhost:8080/"
        },
        "id": "aOHeWd7J9cLw",
        "outputId": "020e640e-ad02-4045-d5bd-5389b26bfd17"
      },
      "outputs": [
        {
          "output_type": "stream",
          "name": "stdout",
          "text": [
            "商品を購入して消費税を加えた計算\n",
            "商品価格を入力2000\n",
            "消費税率を入力10\n",
            "商品は 2000.0 円\n",
            "消費税率は 10.0 %\n",
            "消費税を加えた価格は 2200.0 円です。\n"
          ]
        }
      ],
      "source": [
        "#商品を購入して、消費税を加えた計算結果を返す関数\n",
        "def usage():\n",
        "    print(\"商品を購入して消費税を加えた計算\")\n",
        "\n",
        "def display (a, b):\n",
        "    print(\"商品は\", a, \"円\")\n",
        "    print(\"消費税率は\", b , \"%\")\n",
        "\n",
        "def calculate_tax(c, d):\n",
        "    e = c + c * d /100\n",
        "    return e\n",
        "\n",
        "usage()\n",
        "product = float(input(\"商品価格を入力\"))\n",
        "tax = float(input(\"消費税率を入力\"))\n",
        "\n",
        "display(product, tax)\n",
        "\n",
        "total = calculate_tax(product, tax)\n",
        "print(\"消費税を加えた価格は\", total, \"円です。\")\n"
      ]
    }
  ]
}