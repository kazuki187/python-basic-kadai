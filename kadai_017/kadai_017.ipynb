{
  "nbformat": 4,
  "nbformat_minor": 0,
  "metadata": {
    "colab": {
      "provenance": []
    },
    "kernelspec": {
      "name": "python3",
      "display_name": "Python 3"
    },
    "language_info": {
      "name": "python"
    }
  },
  "cells": [
    {
      "cell_type": "code",
      "execution_count": 2,
      "metadata": {
        "colab": {
          "base_uri": "https://localhost:8080/"
        },
        "id": "QQ7dCmSSk6QT",
        "outputId": "32dfb73f-e3b5-4f9c-b6fb-f93b81d4392e"
      },
      "outputs": [
        {
          "output_type": "stream",
          "name": "stdout",
          "text": [
            "侍一郎\n",
            "大人です\n",
            "\n",
            "侍二郎\n",
            "大人ではありません\n",
            "\n",
            "侍三郎\n",
            "大人です\n",
            "\n",
            "侍四郎\n",
            "大人です\n",
            "\n"
          ]
        }
      ],
      "source": [
        "#名前(name)と年齢(age)の属性を持つHumanクラスとageが20以上の場合に大人であること、そうでない場合に大人でないこと\n",
        "\n",
        "#セットデータ\n",
        "ages_human = {\"侍一郎\":34, \"侍二郎\":18, \"侍三郎\":43, \"侍四郎\":23}\n",
        "\n",
        "class Human:\n",
        "    #初期化と属性\n",
        "    def __init__(self, name, age):\n",
        "        self.name = name\n",
        "        self.age = age\n",
        "\n",
        "    #メソッド\n",
        "    def check_adult(self):\n",
        "        if self.age >= 20:\n",
        "            print(\"大人です\")\n",
        "        else:\n",
        "            print(\"大人ではありません\")\n",
        "\n",
        "#インスタンス化\n",
        "humans_list= []\n",
        "for name, age in ages_human.items():\n",
        "    human = Human(name, age)\n",
        "    humans_list.append(human)\n",
        "\n",
        "#メソッドにアクセスして実行する\n",
        "for human in humans_list:\n",
        "    print(human.name)\n",
        "    human.check_adult()\n",
        "    print()"
      ]
    }
  ]
}