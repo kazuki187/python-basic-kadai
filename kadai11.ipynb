{
  "nbformat": 4,
  "nbformat_minor": 0,
  "metadata": {
    "colab": {
      "provenance": []
    },
    "kernelspec": {
      "name": "python3",
      "display_name": "Python 3"
    },
    "language_info": {
      "name": "python"
    }
  },
  "cells": [
    {
      "cell_type": "code",
      "execution_count": 30,
      "metadata": {
        "colab": {
          "base_uri": "https://localhost:8080/"
        },
        "id": "V-TR_BCotE4H",
        "outputId": "88f6a240-e72b-44c0-d52a-b41e41d11ba4"
      },
      "outputs": [
        {
          "output_type": "stream",
          "name": "stdout",
          "text": [
            "水\n",
            "金\n",
            "地\n",
            "火\n",
            "木\n",
            "土\n",
            "天\n",
            "海\n",
            "冥\n",
            "水\n",
            "金\n",
            "地\n",
            "火\n",
            "木\n",
            "土\n",
            "天\n",
            "海\n",
            "冥\n"
          ]
        }
      ],
      "source": [
        "array = [\"水\",\"金\",\"地\",\"火\",\"木\",\"土\",\"天\",\"海\",\"冥\"]\n",
        "\n",
        "#for文の場合\n",
        "for value in array:\n",
        "     print(f\"{value}\")\n",
        "\n",
        "#while文の場合\n",
        "#カウンタ変数の用意\n",
        "i = 0\n",
        "while i < len(array):\n",
        "    print(array[i])\n",
        "    #インデックスを1つ進める\n",
        "    i += 1\n",
        "\n",
        "    if i == len(array):\n",
        "     break\n"
      ]
    }
  ]
}